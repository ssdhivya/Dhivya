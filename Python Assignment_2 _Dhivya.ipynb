{
 "cells": [
  {
   "cell_type": "markdown",
   "id": "382862eb",
   "metadata": {},
   "source": [
    "Program 1: Take the input from the user asking for the following\n",
    "\n",
    "a. Name\n",
    "b. Age\n",
    "c. DOB\n",
    "\n",
    "Convert these inputs to the appropriate data formats - eg : Name should be string. \n",
    "\n",
    "Print the following \n",
    "\n",
    "Name of the the user is -- . The Data type is -- \n",
    "Age of the the user is -- . The Data type is -- \n",
    "DOB of the the user is -- . The Data type is -- \n"
   ]
  },
  {
   "cell_type": "code",
   "execution_count": 2,
   "id": "a7480751",
   "metadata": {},
   "outputs": [
    {
     "name": "stdout",
     "output_type": "stream",
     "text": [
      "Enter the Name: Dhivya\n",
      "Enter the age: 23\n",
      "Enter the Date Of Birth: 31 May 2022\n"
     ]
    }
   ],
   "source": [
    "import datetime\n",
    "name = input(\"Enter the Name: \")\n",
    "name =str(name)\n",
    "age = input(\"Enter the age: \")\n",
    "age =int(age)\n",
    "DOB = input(\"Enter the Date Of Birth: \")"
   ]
  },
  {
   "cell_type": "markdown",
   "id": "6bf79dd6",
   "metadata": {},
   "source": [
    "Queston 2: List the differences between \n",
    "a. list and tuple\n",
    "b. Dictionary and set\n"
   ]
  },
  {
   "cell_type": "raw",
   "id": "470e28c7",
   "metadata": {},
   "source": [
    "Solution:a. List and Tuple\n",
    "LIST\n",
    "1.list is mutable and can be modified\n",
    "2.The literal syntax of list is shown by parentheses[]\n",
    "3.list has variable Length\n",
    "4.list has more functionality than tuple\n",
    "\n",
    "TUPLE\n",
    "1.tuple is immutable and can not be modified\n",
    "2.The literal syntax of tuple is shown by parentheses()\n",
    "3.tuple has fixed length\n",
    "4.tuples are more memory effcient than the list\n",
    "\n",
    "b. Dictionary and set\n",
    "DICTIONARY\n",
    "1.Dictionaries are used to store data values in key:value pairs.\n",
    "2.A dictionary is a collection which is ordered, changeable and do not allow duplicates.\n",
    "  Dictionaries are written with curly brackets{}.\n",
    "\n",
    "SET\n",
    "1.Sets are used to store multiple items in a single variable.\n",
    "2.It is a collection which is unordered, unchangeable but you can remove items and add new items\n",
    "3.Unordered means that the items in a set do not have a defined order.\n",
    "3.set do not allow duplicates.   "
   ]
  },
  {
   "cell_type": "markdown",
   "id": "22f19a2b",
   "metadata": {},
   "source": [
    "Question 3:\n",
    "Generate random numbers (integer)-> Generate 5 random integers \n",
    "calculate the sum  of the above generate numbers \n",
    "Find the max of the number Find the min of the number"
   ]
  },
  {
   "cell_type": "code",
   "execution_count": 2,
   "id": "a1281142",
   "metadata": {},
   "outputs": [
    {
     "name": "stdout",
     "output_type": "stream",
     "text": [
      "Enter a number:3\n",
      "Enter a number:4\n",
      "Enter a number:5\n",
      "Enter a number:6\n",
      "Enter a number:7\n",
      "sum of five numbers\n",
      "25\n",
      "maximum of the number\n",
      "7\n",
      "minimum of the number\n",
      "3\n"
     ]
    }
   ],
   "source": [
    "a_list = []\n",
    "for num in range(5):\n",
    "    list_num = int(input(\"Enter a number:\"))\n",
    "    a_list.append(list_num)\n",
    "print(\"sum of five numbers\")\n",
    "print(sum(a_list))\n",
    "maxium=max(a_list)\n",
    "print(\"maximum of the number\")\n",
    "print(maxium)\n",
    "minimum=min(a_list)\n",
    "print(\"minimum of the number\")\n",
    "print(minimum)"
   ]
  },
  {
   "cell_type": "markdown",
   "id": "2019f96a",
   "metadata": {},
   "source": [
    "Question 4. \n",
    "\n",
    "●\tlist\n",
    "●\tTuple\n",
    "●\tSet\n",
    "●\tDictionary\n",
    "\n",
    "A.\tGive an example for each of the above data structures. \n",
    "B.\tPrint all the builtin fuctions available for the above\n",
    "C.\tAddtionally use five built in functions in python - given for each of them \n"
   ]
  },
  {
   "cell_type": "code",
   "execution_count": 79,
   "id": "a9a3a1d6",
   "metadata": {},
   "outputs": [
    {
     "name": "stdout",
     "output_type": "stream",
     "text": [
      "list1: ['apple', 'banana', 'pineapple', 'watermelon', 'giwi', 'orange', 'banana']\n",
      "list2: ['Cauliflower', 'cabbage', 'carrot', 'raddish', 'spinash']\n",
      "print length of list1\n",
      "7\n",
      "Updated list1:\n",
      " ['apple', 'banana', 'pineapple', 'watermelon', 'giwi', 'orange', 'banana', 'Grapes']\n",
      "After adding 1 items,length of list1:  8\n",
      "After removing 1 value:  ['apple', 'pineapple', 'watermelon', 'giwi', 'orange', 'banana', 'Grapes']\n",
      "print length of list2\n",
      "5\n",
      "maximum of list1\n",
      "watermelon\n",
      "minimum of list1\n",
      "Grapes\n",
      "First value from list1: apple\n",
      "Second value from list1: pineapple\n",
      "pineapple\n",
      "True\n",
      "4\n",
      "3\n",
      "2\n",
      "1\n",
      "Integer to binary : 0b1110\n",
      "Formatting integer to hexadecimal : ff\n"
     ]
    }
   ],
   "source": [
    "list1=[\"apple\",\"banana\",\"pineapple\",\"watermelon\",\"giwi\",\"orange\",\"banana\"]\n",
    "list2=[\"Cauliflower\",\"cabbage\",\"carrot\",\"raddish\",\"spinash\"]\n",
    "#list ordered,changable,allow duplicate,can add or remove items\n",
    "print(\"list1:\",list1)\n",
    "print(\"list2:\",list2)\n",
    "print(\"print length of list1\")\n",
    "print(len(list1))\n",
    "#adding values\n",
    "list1.append(\"Grapes\")\n",
    "print(\"Updated list1:\\n\",list1)\n",
    "print(\"After adding 1 items,length of list1: \",len(list1))\n",
    "#removing values\n",
    "list1.remove(\"banana\")\n",
    "print(\"After removing 1 value from List1:\\n \", list1)\n",
    "print(\"print length of list2\")\n",
    "print(len(list2))\n",
    "print(\"maximum of list1\")\n",
    "print(max(list1))\n",
    "print(\"minimum of list1\")\n",
    "print(min(list1))\n",
    "# Create an iterator, and print the items one by one\n",
    "mylist=iter(list1)\n",
    "x=next(mylist)\n",
    "print(\"First value from list1:\",x)\n",
    "x=next(mylist)\n",
    "print(\"Second value from list1:\",x)\n",
    "print(x)\n",
    "#Checks all items in a list are True\n",
    "list3 = [1,2,3,4]\n",
    "x=all(list3)\n",
    "print(x)\n",
    "#Reverse the sequence of a list, and print each item\n",
    "list4 =reversed(list3)\n",
    "for r in list4: \n",
    "    print(r)\n",
    "#binary version of a specified integer.\n",
    "print(\"Integer to binary :\",bin(14))\n",
    "# format the integer to hexadecimal\n",
    "int=255\n",
    "print(\"Formatting integer to hexadecimal :\",format(255,'x'))\n"
   ]
  },
  {
   "cell_type": "code",
   "execution_count": 128,
   "id": "0e402380",
   "metadata": {},
   "outputs": [
    {
     "name": "stdout",
     "output_type": "stream",
     "text": [
      "tuple: (1, 2, 3, 4, 5, 6, 7, 8)\n",
      "tuple2: (23, 43, 45, 67, 87, 90, 32)\n",
      "Length of tuple1: 8\n",
      "maximum number of tuple1: 8\n",
      "True\n",
      "tuple type: <class 'tuple'>\n",
      "5\n",
      "('h', 'e', 'y', 'y')\n",
      "Given Tuple: (2, 5, 8, 1, 9, 3, 7)\n",
      "Sorted Tuple : (1, 2, 3, 5, 7, 8, 9)\n"
     ]
    }
   ],
   "source": [
    "#Tuple-Ordered,Unchanged,immutable,Allow duplicate\n",
    "tuple1 = (1,2,3,4,5,6,7,8)\n",
    "tuple2 = (23,43,45,67,87,90,32)\n",
    "print(\"tuple:\",tuple1)\n",
    "print(\"tuple2:\",tuple2)\n",
    "#Length of Tuple1\n",
    "print(\"Length of tuple1:\",len(tuple1))\n",
    "#maximum of tuple1\n",
    "print(\"maximum number of tuple1:\",max(tuple1))\n",
    "# iterable Value true or False\n",
    "x=any(tuple2)\n",
    "print(x)\n",
    "#data type of a tuple\n",
    "print(\"tuple type:\",type(tuple1))\n",
    "#Value of index\n",
    "print(tuple1[4])\n",
    "Tuple3=tuple(\"heyy\")\n",
    "print(Tuple3)\n",
    "#Sorted Tuple\n",
    "aTuple = (2, 5, 8, 1, 9, 3, 7)\n",
    "print(\"Given Tuple:\",aTuple)\n",
    "result = sorted(aTuple)\n",
    "result = tuple(result)\n",
    "print('Sorted Tuple :', result)"
   ]
  },
  {
   "cell_type": "code",
   "execution_count": 143,
   "id": "771e8e95",
   "metadata": {},
   "outputs": [
    {
     "name": "stdout",
     "output_type": "stream",
     "text": [
      "{'dino', 3, 'apple', 5, 'carrot', 87}\n",
      "dino\n",
      "3\n",
      "apple\n",
      "5\n",
      "carrot\n",
      "87\n",
      "After adding Items:\n",
      " {'dino', 3, 'apple', 5, 'carrot', 87, 'orange'}\n",
      "{'dino', 3, 'apple', 5, 87, 'kiwi', 'cat', 'carrot', 56, 'orange'}\n",
      "339\n",
      "minimum Marks: 61\n",
      "maximum Marks: 74\n",
      "10\n"
     ]
    }
   ],
   "source": [
    "#Set items are,Unordered unchangeable, but you can remove items and add new items.Duplicates not allowed\n",
    "set={\"apple\",3,5,\"carrot\",\"dino\",87}\n",
    "print(set)\n",
    "#using loop\n",
    "for x in set:\n",
    "  print(x)\n",
    "#Adding values\n",
    "set.add(\"orange\")\n",
    "print(\"After adding Items:\\n\",set)\n",
    "#add any iterable and duplicate not allowed\n",
    "list=[3,\"kiwi\",\"cat\",56]\n",
    "set.update(list)\n",
    "print(set)\n",
    "#sum() function\n",
    "marks = [65, 71, 68, 74, 61]\n",
    "total = sum(marks)\n",
    "print(total)\n",
    "#minimum function\n",
    "print(\"minimum Marks:\",min(marks))\n",
    "#maximum Function\n",
    "print(\"maximum Marks:\",max(marks))\n",
    "#length of Set\n",
    "print(\"Length of set :\",len(set))"
   ]
  },
  {
   "cell_type": "code",
   "execution_count": 164,
   "id": "9e177502",
   "metadata": {},
   "outputs": [
    {
     "name": "stdout",
     "output_type": "stream",
     "text": [
      "Dictionary values: {1: 'Ford', 2: 'Honda', 3: 'mazda', 4: 'Kia', 5: 'BMW', 6: 'benz'}\n",
      "Not allowing duplicate values : {1: 'Ford', 2: 'Honda', 3: 'mazda', 4: 'Kia', 5: 'BMW', 6: 'mercedes'}\n",
      "Length of the Dict: 6\n",
      "<class 'dict'>\n",
      "value of the key 1 is: Ford\n",
      "dict_keys([1, 2, 3, 4, 5, 6])\n",
      "dict_keys([1, 2, 3, 4, 5, 6])\n",
      "dict_keys([1, 2, 3, 4, 5, 6, 7])\n",
      "{1: 'Ford', 2: 'Honda', 3: 'mazda', 4: 'Kia', 5: 'BMW', 6: 'mercedes', 7: 'Hyundai'}\n"
     ]
    }
   ],
   "source": [
    "#Dictionaries are used to store data values in key:value pairs.\n",
    "#A dictionary is a collection which is ordered,changeable and do not allow duplicates.\n",
    "dict = {1:\"Ford\",2:\"Honda\",3:\"mazda\",4:\"Kia\",5:\"BMW\",6:\"benz\"}\n",
    "print(\"Dictionary values:\",dict)\n",
    "#Duplicates Not Allowed\n",
    "dict = {1:\"Ford\",2:\"Honda\",3:\"mazda\",4:\"Kia\",5:\"BMW\",6:\"benz\",6:\"mercedes\"}\n",
    "print(\"Not allowing duplicate values :\",dict)\n",
    "#length of the Dict\n",
    "print(\"Length of the Dict:\",len(dict))\n",
    "#type of Dict\n",
    "print(type(dict))\n",
    "#value of key\n",
    "x = dict[1]\n",
    "print(\"value of the key 1 is:\",x)\n",
    "# list of all the keys in the dictionary\n",
    "x = dict.keys()\n",
    "print(x)\n",
    "#Add a new item to the original dictionary\n",
    "#before the change\n",
    "x = dict.keys()\n",
    "print(x)\n",
    "dict[7] = \"Hyundai\"\n",
    "#after the change\n",
    "print(x)\n",
    "print(dict)\n",
    "\n"
   ]
  },
  {
   "cell_type": "markdown",
   "id": "2fecc7e8",
   "metadata": {},
   "source": [
    "Question 5: List the differences between in and is operator and use it in a. list b. Tuple c. Set d. Dictionary"
   ]
  },
  {
   "cell_type": "code",
   "execution_count": null,
   "id": "290f3ae6",
   "metadata": {},
   "outputs": [],
   "source": [
    "Diffrence between is operator and in operator\n",
    "a.is\n",
    "Returns True if both variables are the same object\n",
    "b. in\n",
    "Returns True if a sequence with the specified value is present in the object"
   ]
  },
  {
   "cell_type": "code",
   "execution_count": 188,
   "id": "83910681",
   "metadata": {},
   "outputs": [
    {
     "name": "stdout",
     "output_type": "stream",
     "text": [
      "is Operator List: True\n",
      "is Operator List: False\n",
      "is Operator List: True\n",
      "in Operator List: False\n",
      "is operator tuple: True\n",
      "in operator tuple: True\n",
      "in operator tuple: False\n",
      "in operator set: True\n",
      "is operator set: False\n",
      "in operator Dict(Key): True\n",
      "in operator Dict(Key): False\n",
      "in operator Dict(Values): True\n"
     ]
    }
   ],
   "source": [
    "#List\n",
    "x = [\"apple\", \"banana\"]\n",
    "y = [\"apple\", \"banana\"]\n",
    "z = x\n",
    "print(\"is Operator List:\",x is z)\n",
    "print(\"is Operator List:\",x is y)\n",
    "print(\"is Operator List:\",x == y)\n",
    "print(\"in Operator List:\",\"Veg\" in x)\n",
    "#Tuple\n",
    "x = (\"apple\", \"banana\")\n",
    "y = (\"apple\", \"banana\")\n",
    "z = x\n",
    "print(\"is operator tuple:\",x is z)\n",
    "print(\"in operator tuple:\",\"apple\" in y)\n",
    "print(\"in operator tuple:\",\"cucumber\" in y)\n",
    "#Set\n",
    "s = {4, 5, 8, 6, 3, 2, 5}\n",
    "q = {4,5,8,6,3,1,5}\n",
    "x = 3 in s  \n",
    "print(\"in operator set:\",x)\n",
    "y=s is q\n",
    "print( \"is operator set:\",y)\n",
    "#Dict\n",
    "#The in operation for the dictionary (dict) tests on the key.\n",
    "dict = {'key1': 'zoo', 'key2': 'swimming', 'key3': 'park'}\n",
    "print(\"in operator Dict(Key):\",'key1' in dict)\n",
    "print(\"in operator Dict(Key):\",'zoo' in dict)\n",
    "#Use value() if you want to test on values or key-value pairs.\n",
    "print(\"in operator Dict(Values):\", 'zoo' in dict.values())\n",
    "\n"
   ]
  }
 ],
 "metadata": {
  "kernelspec": {
   "display_name": "Python 3 (ipykernel)",
   "language": "python",
   "name": "python3"
  },
  "language_info": {
   "codemirror_mode": {
    "name": "ipython",
    "version": 3
   },
   "file_extension": ".py",
   "mimetype": "text/x-python",
   "name": "python",
   "nbconvert_exporter": "python",
   "pygments_lexer": "ipython3",
   "version": "3.9.12"
  }
 },
 "nbformat": 4,
 "nbformat_minor": 5
}
